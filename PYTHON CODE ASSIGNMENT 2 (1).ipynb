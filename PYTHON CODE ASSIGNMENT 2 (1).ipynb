{
 "cells": [
  {
   "cell_type": "code",
   "execution_count": 8,
   "metadata": {},
   "outputs": [
    {
     "name": "stdout",
     "output_type": "stream",
     "text": [
      " List of months :  January , February , March , April , May , June , July , August , September , October , November , December , \n",
      " Enter the name of the month - July\n",
      "No. of days :  31 days\n"
     ]
    }
   ],
   "source": [
    "list  = [ [ 'January' , 31] , ['February' , 28/29] , ['March' , 31] , ['April' , 30] , ['May' , 31] , ['June' , 30] ,\n",
    "        ['July' , 31] , ['August' , 31] , ['September' , 30] , ['October' , 31] , \n",
    "        ['November', 30] , [ 'December' , 31] ]\n",
    "\n",
    "print(\" List of months : \" , end = \" \")\n",
    "\n",
    "for i in list :\n",
    "    print(i[0] , end = \" , \")\n",
    "    \n",
    "month = input (\"\\n Enter the name of the month - \")\n",
    "\n",
    "for i in list :\n",
    "    if i[0] == month :\n",
    "        print(\"No. of days : \" , i[1] , \"days\")"
   ]
  },
  {
   "cell_type": "code",
   "execution_count": null,
   "metadata": {},
   "outputs": [],
   "source": []
  },
  {
   "cell_type": "code",
   "execution_count": null,
   "metadata": {},
   "outputs": [],
   "source": []
  }
 ],
 "metadata": {
  "kernelspec": {
   "display_name": "Python 3",
   "language": "python",
   "name": "python3"
  },
  "language_info": {
   "codemirror_mode": {
    "name": "ipython",
    "version": 3
   },
   "file_extension": ".py",
   "mimetype": "text/x-python",
   "name": "python",
   "nbconvert_exporter": "python",
   "pygments_lexer": "ipython3",
   "version": "3.8.3"
  }
 },
 "nbformat": 4,
 "nbformat_minor": 4
}
