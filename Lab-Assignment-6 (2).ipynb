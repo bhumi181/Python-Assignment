{
 "cells": [
  {
   "cell_type": "markdown",
   "metadata": {},
   "source": [
    "# Lab-Assignment-6"
   ]
  },
  {
   "cell_type": "raw",
   "metadata": {},
   "source": [
    "submission data - 16th nov. 2020 on google classroom\n",
    "\n",
    "Students should not use inbuilt libraries for Model Fitting\n",
    "\n",
    "Hint:\n",
    "1. Create a function to read data from CSV into two sequences\n",
    "2. Copy the  sequence into numpy vectors\n",
    "3. Visualize the data with scatter plot\n",
    "4. Check if association exits between the data\n",
    "5. Assume linear relationship, if association exists between observations and response variable\n",
    "6.  Fit the model\n",
    "6.1 Compute Beta_0 and Beta_1 from observations\n",
    "6.2. Create your fitted line y = Beta_0 + Beta_1 * X\n",
    "7. Plot the fitted line \n",
    "8. Calculate R-Square\n",
    "9. Create Anova Table"
   ]
  },
  {
   "cell_type": "code",
   "execution_count": 21,
   "metadata": {},
   "outputs": [],
   "source": [
    "import numpy as np\n",
    "import matplotlib.pyplot as plt\n",
    "import csv"
   ]
  },
  {
   "cell_type": "code",
   "execution_count": 22,
   "metadata": {},
   "outputs": [],
   "source": [
    "# function for read data from csv and copying of sequence to numpy vector\n",
    "def load_dataset():\n",
    "    num_rows = sum(1 for line in open('Linear-Ression_data.csv'))-2\n",
    "    X = np.zeros((num_rows, 1))\n",
    "    Y = np.zeros((num_rows, 1))\n",
    "    with open('Linear-Ression_data.csv') as f:\n",
    "        reader = csv.DictReader(f, delimiter=',')\n",
    "        next(reader, None)\n",
    "        for i, row in enumerate(reader):\n",
    "            X[i] = float(row['GPA']) if len(row['GPA']) > 0 else 0\n",
    "            Y[i] = int(row['SAT']) if len(row['SAT']) > 0 else 0\n",
    "    return X, Y"
   ]
  },
  {
   "cell_type": "code",
   "execution_count": 24,
   "metadata": {},
   "outputs": [
    {
     "name": "stdout",
     "output_type": "stream",
     "text": [
      "Means of X and Y are : [3.34144578] [1846.85542169]\n",
      "Standard deviation of X and Y are  [0.25144466] [103.52069027]\n"
     ]
    }
   ],
   "source": [
    "X, Y = load_dataset()\n",
    "\n",
    "def mean(data):\n",
    "    return sum(data) / float(len(data))\n",
    "\n",
    "def variance(data):\n",
    "    n = len(data)\n",
    "    mean = sum(data) / n\n",
    "    return sum((x - mean) ** 2 for x in data)/n\n",
    "\n",
    "def stdev(data):\n",
    "    var = variance(data)\n",
    "    std_dev = (var)**0.5\n",
    "    return std_dev\n",
    "\n",
    "X_mean = mean(X)\n",
    "Y_mean = mean(Y)\n",
    "\n",
    "std_X = stdev(X)\n",
    "std_Y = stdev(Y)\n",
    "print(\"Means of X and Y are :\", X_mean, Y_mean)\n",
    "print(\"Standard deviation of X and Y are \", std_X, std_Y)"
   ]
  },
  {
   "cell_type": "code",
   "execution_count": 4,
   "metadata": {},
   "outputs": [
    {
     "data": {
      "image/png": "[encoded data removed]",
      "text/plain": [
       "<Figure size 432x288 with 1 Axes>"
      ]
     },
     "metadata": {
      "needs_background": "light"
     },
     "output_type": "display_data"
    }
   ],
   "source": [
    "# scatter plot of data\n",
    "def visualize_dataset(X, Y):\n",
    "    plt.xlabel('GPA',color ='red')\n",
    "    plt.ylabel('SAT',color ='red')\n",
    "    plt.scatter(X, Y)\n",
    "    plt.show()\n",
    "if __name__ == '__main__':\n",
    "    X, Y = load_dataset()\n",
    "    visualize_dataset(X, Y)"
   ]
  },
  {
   "cell_type": "code",
   "execution_count": 25,
   "metadata": {},
   "outputs": [
    {
     "name": "stdout",
     "output_type": "stream",
     "text": [
      "Association between X and Y is  [0.63781454]\n"
     ]
    }
   ],
   "source": [
    "#checking for association\n",
    "def correlation(x, x_mean, y, y_mean, std_x, std_y):\n",
    "    n = len(x)\n",
    "    corr = (sum(((x-x_mean)/std_x)*((y-y_mean)/std_y)))/(n)\n",
    "    return corr\n",
    "\n",
    "corr = correlation(X, X_mean, Y, Y_mean, std_X, std_Y)\n",
    "print(\"Association between X and Y is \", corr)"
   ]
  },
  {
   "cell_type": "raw",
   "metadata": {},
   "source": [
    "A positive correlation / association between aur response variable and observation we can conclude for above computaion\n",
    "so we can assume linear relationship "
   ]
  },
  {
   "cell_type": "code",
   "execution_count": 26,
   "metadata": {},
   "outputs": [
    {
     "name": "stdout",
     "output_type": "stream",
     "text": [
      "the value of beta-1 : [262.59059173] \n",
      "the value of beta-0 :  [969.42319626]\n"
     ]
    }
   ],
   "source": [
    "# Fit the model\n",
    "# 6.1 Compute Beta_0 and Beta_1 from observations\n",
    "# 6.2. Create your fitted line y = Beta_0 + Beta_1 * X \n",
    "\n",
    "num = 0\n",
    "den = 0\n",
    "for i in range(len(X)):\n",
    "    num += (X[i] - X_mean)*(Y[i] - Y_mean)\n",
    "    den += (X[i] - X_mean)**2\n",
    "    \n",
    "beta1 = num / den\n",
    "beta0 = Y_mean - beta1*X_mean\n",
    "print(\"the value of beta-1 :\", beta1, \"\\nthe value of beta-0 : \", beta0)"
   ]
  },
  {
   "cell_type": "code",
   "execution_count": 8,
   "metadata": {},
   "outputs": [
    {
     "data": {
      "image/png": "[encoded data removed]",
      "text/plain": [
       "<Figure size 432x288 with 1 Axes>"
      ]
     },
     "metadata": {
      "needs_background": "light"
     },
     "output_type": "display_data"
    }
   ],
   "source": [
    "# Plot the fitted line \n",
    "# Making predictions\n",
    "Y_pred = beta1*X + beta0\n",
    "\n",
    "plt.scatter(X, Y,color='yellow', label='Data Points') # actual\n",
    "plt.plot([min(X), max(X)], [min(Y_pred), max(Y_pred)], color='black', label='Regression Line') # predicted\n",
    "plt.xlabel('GPA', color = 'red')\n",
    "plt.ylabel('SAT', color = 'red')\n",
    "plt.legend()\n",
    "plt.show()"
   ]
  },
  {
   "cell_type": "code",
   "execution_count": 27,
   "metadata": {},
   "outputs": [
    {
     "name": "stdout",
     "output_type": "stream",
     "text": [
      "The R-square is :  [0.40680739]\n"
     ]
    }
   ],
   "source": [
    "# Calculate R-Square\n",
    "ss_total  = 0\n",
    "ss_residual = 0\n",
    "for i in range(len(X)):\n",
    "    Y_pred = beta1*X[i] + beta0\n",
    "    ss_total += (Y[i] - Y_mean) ** 2\n",
    "    ss_residual += (Y[i] - Y_pred) ** 2\n",
    "\n",
    "r_square = 1 - (ss_residual/ss_total)\n",
    "print(\"The R-square is : \", r_square)"
   ]
  },
  {
   "cell_type": "code",
   "execution_count": 28,
   "metadata": {},
   "outputs": [
    {
     "name": "stdout",
     "output_type": "stream",
     "text": [
      "SS_regression : [361843.88756956] \n",
      "SS_residual: [527628.37749068] \n",
      "SS_total : [889472.26506024]\n"
     ]
    }
   ],
   "source": [
    "# Create Anova Table\n",
    "# let's find attributes of anova table \n",
    "# we know the degree of freedom for regression is 1 for residual is n-2 and total is n-1\n",
    "ss_regression = 0.0\n",
    "ss_residual = 0.0\n",
    "for i in range(len(X)):\n",
    "    Y_pred = beta1*X[i] + beta0\n",
    "    ss_regression += (Y_pred-Y_mean)**2\n",
    "    ss_residual += (Y[i]-Y_pred)**2\n",
    "    \n",
    "print(\"SS_regression :\", ss_regression, \"\\nSS_residual:\", ss_residual,\"\\nSS_total :\", ss_regression+ss_residual)"
   ]
  },
  {
   "cell_type": "code",
   "execution_count": 30,
   "metadata": {},
   "outputs": [
    {
     "name": "stdout",
     "output_type": "stream",
     "text": [
      "MS Regression : [361843.88756956] \n",
      "MS Residual : [6513.9305863]\n"
     ]
    }
   ],
   "source": [
    "n = len(X)\n",
    "ms_regression = (ss_regression/1)\n",
    "ms_residual = (ss_residual/(n-2))\n",
    "print(\"MS Regression :\", ms_regression, \"\\nMS Residual :\", ms_residual)"
   ]
  },
  {
   "cell_type": "code",
   "execution_count": 31,
   "metadata": {},
   "outputs": [
    {
     "name": "stdout",
     "output_type": "stream",
     "text": [
      "F-stats for data :  [55.54923909]\n",
      "Standared Error : [80.70892507]\n"
     ]
    }
   ],
   "source": [
    "F_stats = (ms_regression/ms_residual)\n",
    "print(\"F-stats for data : \", F_stats)\n",
    "std_Error = (ms_residual**0.5) \n",
    "print(\"Standared Error :\", std_Error)"
   ]
  },
  {
   "cell_type": "code",
   "execution_count": 34,
   "metadata": {},
   "outputs": [
    {
     "name": "stdout",
     "output_type": "stream",
     "text": [
      "ANOVA\n",
      " \t\t degree of freedom\t\t SS\t\t MS\t\t \tF-stats\t \t\tsignificance-F\n",
      "\n",
      "Regression\t\t 1 \t\t [361843.88756956] \t [361843.88756956] \t [55.54923909] \t\t 7.19952e-11\n",
      "\n",
      "Residual\t 83-2 = 81 \t\t [527628.37749068] \t [6513.9305863]\n",
      "\n",
      "Total\t\t 83-1 = 82 \t\t [889472.26506024]\n"
     ]
    }
   ],
   "source": [
    "# anova table\n",
    "F_significant = 7.19952E-11 #from table\n",
    "print(\"ANOVA\\n\",\"\\t\\t\",\"degree of freedom\\t\\t\", \"SS\\t\\t\", \"MS\\t\\t\", \"\\tF-stats\\t\", \"\\t\\tsignificance-F\")\n",
    "print(\"\\nRegression\\t\\t\", 1, \"\\t\\t\", ss_regression, \"\\t\", ms_regression, \"\\t\", F_stats, \"\\t\\t\", F_significant)\n",
    "print(\"\\nResidual\\t\", \"83-2 =\", 81, \"\\t\\t\", ss_residual, \"\\t\", ms_residual )\n",
    "print(\"\\nTotal\\t\\t\", \"83-1 =\", 82, \"\\t\\t\", ss_regression+ss_residual )"
   ]
  },
  {
   "cell_type": "code",
   "execution_count": null,
   "metadata": {},
   "outputs": [],
   "source": []
  }
 ],
 "metadata": {
  "kernelspec": {
   "display_name": "Python 3",
   "language": "python",
   "name": "python3"
  },
  "language_info": {
   "codemirror_mode": {
    "name": "ipython",
    "version": 3
   },
   "file_extension": ".py",
   "mimetype": "text/x-python",
   "name": "python",
   "nbconvert_exporter": "python",
   "pygments_lexer": "ipython3",
   "version": "3.8.3"
  }
 },
 "nbformat": 4,
 "nbformat_minor": 4
}
